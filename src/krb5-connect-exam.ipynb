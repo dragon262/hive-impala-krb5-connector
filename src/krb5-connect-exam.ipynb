{
 "cells": [
  {
   "cell_type": "markdown",
   "metadata": {},
   "source": [
    "### Add host (x.x.x.x = your kdc ipaddr)\n",
    "/etc/hosts\n",
    "~~~\n",
    "...\n",
    "x.x.x.x datagovsg-kerberos-kdc1\n",
    "~~~\n",
    "\n",
    "### Copy krb5.conf\n",
    "~~~\n",
    "cp ~/krb5.conf /etc/krb5.conf\n",
    "~~~"
   ]
  },
  {
   "cell_type": "code",
   "execution_count": 1,
   "metadata": {},
   "outputs": [],
   "source": [
    "from krbcontext import krbcontext"
   ]
  },
  {
   "cell_type": "code",
   "execution_count": 2,
   "metadata": {},
   "outputs": [],
   "source": [
    "principal = \"kadmin/datagovsg-kerberos-kdc1@EXAMPLE.COM\"\n",
    "keytab_file_path = \"kadmin.keytab\""
   ]
  },
  {
   "cell_type": "code",
   "execution_count": 3,
   "metadata": {},
   "outputs": [
    {
     "name": "stdout",
     "output_type": "stream",
     "text": [
      "connected!\n"
     ]
    }
   ],
   "source": [
    "with krbcontext(using_keytab=True, principal=principal, keytab_file=keytab_file_path):\n",
    "    print(\"connected!\")"
   ]
  },
  {
   "cell_type": "code",
   "execution_count": 4,
   "metadata": {},
   "outputs": [
    {
     "name": "stdout",
     "output_type": "stream",
     "text": [
      "Ticket cache: FILE:/tmp/krb5cc_0\n",
      "Default principal: kadmin/datagovsg-kerberos-kdc1@EXAMPLE.COM\n",
      "\n",
      "Valid starting     Expires            Service principal\n",
      "08/06/20 06:35:59  08/06/20 09:35:59  krbtgt/EXAMPLE.COM@EXAMPLE.COM\n",
      "\trenew until 08/07/20 06:35:59\n"
     ]
    }
   ],
   "source": [
    "!klist"
   ]
  },
  {
   "cell_type": "code",
   "execution_count": null,
   "metadata": {},
   "outputs": [],
   "source": []
  }
 ],
 "metadata": {
  "kernelspec": {
   "display_name": "Python 3",
   "language": "python",
   "name": "python3"
  },
  "language_info": {
   "codemirror_mode": {
    "name": "ipython",
    "version": 3
   },
   "file_extension": ".py",
   "mimetype": "text/x-python",
   "name": "python",
   "nbconvert_exporter": "python",
   "pygments_lexer": "ipython3",
   "version": "3.8.2"
  }
 },
 "nbformat": 4,
 "nbformat_minor": 4
}
