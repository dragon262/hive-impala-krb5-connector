{
 "cells": [
  {
   "cell_type": "code",
   "execution_count": 2,
   "metadata": {},
   "outputs": [],
   "source": [
    "from krbcontext import krbcontext\n",
    "from impala.dbapi import connect"
   ]
  },
  {
   "cell_type": "code",
   "execution_count": null,
   "metadata": {},
   "outputs": [],
   "source": [
    "principal = \"\"\n",
    "keytab_file_path = \"\"\n",
    "host = \"\"\n",
    "port = 21050\n",
    "database = \"\"\n",
    "auth_mechanism = \"GSSAPI\"\n",
    "kerberos_service_name = \"\""
   ]
  },
  {
   "cell_type": "code",
   "execution_count": null,
   "metadata": {},
   "outputs": [],
   "source": [
    "with krbcontext(using_keytab=True, principal=principal, keytab_file=keytab_file):\n",
    "    conn = connect(host=host, port=port, database=database,\n",
    "                   auth_mechanism=auth_mechanism, kerberos_service_name=kerberos_service_name)\n",
    "    cursor = conn.cursor()\n",
    "    cursor.execute(\"\")"
   ]
  }
 ],
 "metadata": {
  "kernelspec": {
   "display_name": "Python 3",
   "language": "python",
   "name": "python3"
  },
  "language_info": {
   "codemirror_mode": {
    "name": "ipython",
    "version": 3
   },
   "file_extension": ".py",
   "mimetype": "text/x-python",
   "name": "python",
   "nbconvert_exporter": "python",
   "pygments_lexer": "ipython3",
   "version": "3.8.2"
  }
 },
 "nbformat": 4,
 "nbformat_minor": 4
}
