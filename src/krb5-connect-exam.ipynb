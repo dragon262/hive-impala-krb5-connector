{
 "cells": [
  {
   "cell_type": "code",
   "execution_count": 1,
   "metadata": {},
   "outputs": [],
   "source": [
    "from krbcontext import krbcontext\n",
    "from impala.dbapi import connect"
   ]
  },
  {
   "cell_type": "code",
   "execution_count": 2,
   "metadata": {},
   "outputs": [],
   "source": [
    "principal = \"kadmin/datagovsg-kerberos-kdc1@EXAMPLE.COM\"\n",
    "keytab_file_path = \"kadmin.keytab\"\n",
    "# host = \"192.168.0.50\"\n",
    "host = \"codingtony-impala1\"\n",
    "port = 21050\n",
    "# port = 32819\n",
    "database = \"\"\n",
    "auth_mechanism = \"GSSAPI\"\n",
    "kerberos_service_name = \"\""
   ]
  },
  {
   "cell_type": "code",
   "execution_count": null,
   "metadata": {},
   "outputs": [],
   "source": [
    "with krbcontext(using_keytab=True, principal=principal, keytab_file=keytab_file_path):\n",
    "    print(\"test\")\n",
    "#     conn = connect(host=host, port=port, database=database,\n",
    "#                    auth_mechanism=auth_mechanism, kerberos_service_name=kerberos_service_name)\n",
    "#     cursor = conn.cursor()\n",
    "#     cursor.execute(\"\")\n",
    "#     rows = cursor.fatchall()\n",
    "#     conn.close()"
   ]
  },
  {
   "cell_type": "code",
   "execution_count": 9,
   "metadata": {},
   "outputs": [],
   "source": [
    "conn = connect(host=host, port=port)\n",
    "cursor = conn.cursor()\n",
    "# cursor.execute(\"create table test ( name String )\")\n",
    "cursor.execute(\"show tables\")\n",
    "rows = cursor.fetchall()\n",
    "conn.close()"
   ]
  },
  {
   "cell_type": "code",
   "execution_count": 10,
   "metadata": {},
   "outputs": [
    {
     "data": {
      "text/plain": [
       "[('test',)]"
      ]
     },
     "execution_count": 10,
     "metadata": {},
     "output_type": "execute_result"
    }
   ],
   "source": [
    "rows"
   ]
  },
  {
   "cell_type": "code",
   "execution_count": null,
   "metadata": {},
   "outputs": [],
   "source": []
  },
  {
   "cell_type": "code",
   "execution_count": null,
   "metadata": {},
   "outputs": [],
   "source": []
  },
  {
   "cell_type": "code",
   "execution_count": null,
   "metadata": {},
   "outputs": [],
   "source": []
  },
  {
   "cell_type": "code",
   "execution_count": null,
   "metadata": {},
   "outputs": [],
   "source": []
  },
  {
   "cell_type": "code",
   "execution_count": null,
   "metadata": {},
   "outputs": [],
   "source": []
  },
  {
   "cell_type": "code",
   "execution_count": null,
   "metadata": {},
   "outputs": [],
   "source": []
  }
 ],
 "metadata": {
  "kernelspec": {
   "display_name": "Python 3",
   "language": "python",
   "name": "python3"
  },
  "language_info": {
   "codemirror_mode": {
    "name": "ipython",
    "version": 3
   },
   "file_extension": ".py",
   "mimetype": "text/x-python",
   "name": "python",
   "nbconvert_exporter": "python",
   "pygments_lexer": "ipython3",
   "version": "3.8.2"
  }
 },
 "nbformat": 4,
 "nbformat_minor": 4
}
